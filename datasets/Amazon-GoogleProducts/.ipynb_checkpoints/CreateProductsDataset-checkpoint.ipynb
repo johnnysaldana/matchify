{
 "cells": [
  {
   "cell_type": "code",
   "execution_count": 20,
   "id": "990570cd-6f48-4c03-8c70-6ce57c47a95c",
   "metadata": {},
   "outputs": [],
   "source": [
    "import csv\n",
    "import pandas as pd"
   ]
  },
  {
   "cell_type": "code",
   "execution_count": 22,
   "id": "bb84e60c-ca86-4dd0-8f61-acdf58f5e533",
   "metadata": {},
   "outputs": [],
   "source": [
    "import pandas as pd\n",
    "\n",
    "# Read in GoogleProducts.csv and AmazonProducts.csv as dataframes\n",
    "google_df = pd.read_csv('GoogleProducts.csv', encoding='unicode_escape')\n",
    "amazon_df = pd.read_csv('AmazonProducts.csv', encoding='unicode_escape')\n",
    "\n",
    "# Read in perfectmappings.csv as a dictionary\n",
    "mapping_df = pd.read_csv('perfectmappings.csv', encoding='unicode_escape')\n",
    "mapping_dict = dict(zip(mapping_df['id_amazon'], mapping_df['id_google']))\n",
    "\n",
    "# Merge the Google and Amazon dataframes into a single dataframe\n",
    "combined_df = pd.concat([google_df, amazon_df], ignore_index=True)\n",
    "\n",
    "# replace zeroes with None\n",
    "combined_df['price'] = combined_df['price'].replace(0, None)\n",
    "\n",
    "\n",
    "# Add a new column for group_id based on the mapping data\n",
    "#combined_df['group_id'] = combined_df['id'].apply(lambda x: mapping_dict.get(x, ''))\n",
    "\n",
    "# Merge the mapping dataframe into the combined dataframe\n",
    "combined_df = pd.merge(combined_df, mapping_df, how='left', left_on=['id'], right_on=['id_google'])\n",
    "combined_df = pd.merge(combined_df, mapping_df, how='left', left_on=['id'], right_on=['id_amazon'])\n",
    "\n",
    "# Create a new column for group_id based on the mapping data\n",
    "combined_df['group_id'] = combined_df['group_id_x'].fillna(combined_df['group_id_y'])\n",
    "\n",
    "# Drop the extra columns from the mapping data\n",
    "combined_df = combined_df.drop([ 'group_id_x', 'group_id_y', 'id_google_x', 'id_amazon_x', 'id_amazon_y', 'id_google_y'], axis=1)\n",
    "combined_df = combined_df.sort_values(by='group_id', ascending=True)\n",
    "combined_df['original_id'] = combined_df['id']\n",
    "combined_df['id'] = range(1, len(combined_df) + 1)\n",
    "\n",
    "\n",
    "# Write combined data to a new CSV file\n",
    "combined_df.to_csv('CombinedProducts.csv', index=False)\n"
   ]
  },
  {
   "cell_type": "code",
   "execution_count": null,
   "id": "577ae2b0-fde0-4ad4-a97a-f5e7ffd04d3a",
   "metadata": {},
   "outputs": [],
   "source": []
  }
 ],
 "metadata": {
  "kernelspec": {
   "display_name": "Python 3",
   "language": "python",
   "name": "python3"
  },
  "language_info": {
   "codemirror_mode": {
    "name": "ipython",
    "version": 3
   },
   "file_extension": ".py",
   "mimetype": "text/x-python",
   "name": "python",
   "nbconvert_exporter": "python",
   "pygments_lexer": "ipython3",
   "version": "3.9.16"
  }
 },
 "nbformat": 4,
 "nbformat_minor": 5
}
